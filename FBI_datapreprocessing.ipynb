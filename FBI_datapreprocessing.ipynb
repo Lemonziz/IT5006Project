{
 "cells": [
  {
   "cell_type": "code",
   "execution_count": 227,
   "id": "4209c4b9",
   "metadata": {},
   "outputs": [],
   "source": [
    "import pandas as pd\n",
    "import re\n",
    "import numpy as np"
   ]
  },
  {
   "cell_type": "code",
   "execution_count": 228,
   "id": "5a00349b",
   "metadata": {},
   "outputs": [],
   "source": [
    "prev_year_path = \"AL-2022\"\n",
    "to_predict_path = \"AL-2023\\\\AL-2023\\\\AL\"\n",
    "output_prefix = re.search(r'\\w+-\\d+', to_predict_path).group()\n",
    "predict_year = int(re.search(r'\\d+', output_prefix).group())"
   ]
  },
  {
   "cell_type": "code",
   "execution_count": 229,
   "id": "7be46c7e",
   "metadata": {},
   "outputs": [
    {
     "name": "stdout",
     "output_type": "stream",
     "text": [
      "214804\n",
      "213114 247643\n",
      "427918\n",
      "498675 data_year                     0\n",
      "agency_id                     0\n",
      "incident_id                   0\n",
      "nibrs_month_id                0\n",
      "cargo_theft_flag              0\n",
      "submission_date               0\n",
      "incident_date                 0\n",
      "report_date_flag              0\n",
      "incident_hour                 0\n",
      "cleared_except_id             0\n",
      "cleared_except_date      460500\n",
      "incident_status               0\n",
      "data_home                498675\n",
      "orig_format                   0\n",
      "did                           0\n",
      "offense_id                    0\n",
      "offense_code                  0\n",
      "attempt_complete_flag         0\n",
      "location_id                   0\n",
      "num_premises_entered     497120\n",
      "method_entry_code        475305\n",
      "dtype: int64\n",
      "   data_year  agency_id  incident_id  nibrs_month_id cargo_theft_flag  \\\n",
      "0       2022         49    155372673        44169977                f   \n",
      "1       2022         49    155372673        44169977                f   \n",
      "2       2022         49    155372673        44169977                f   \n",
      "3       2022         49    155377151        44169977                f   \n",
      "4       2022         49    166585891        44303376                f   \n",
      "\n",
      "           submission_date incident_date report_date_flag  incident_hour  \\\n",
      "0    2022-07-06 13:41:03.8    2022-01-08                f             19   \n",
      "1    2022-07-06 13:41:03.8    2022-01-08                f             19   \n",
      "2    2022-07-06 13:41:03.8    2022-01-08                f             19   \n",
      "3  2022-07-06 13:41:25.777    2022-01-22                f             21   \n",
      "4   2023-02-14 14:44:55.98    2022-12-26                f             15   \n",
      "\n",
      "   cleared_except_id  ... incident_status data_home  orig_format        did  \\\n",
      "0                  4  ...        WARNINGS       NaN            F  145967292   \n",
      "1                  4  ...        WARNINGS       NaN            F  145967292   \n",
      "2                  4  ...        WARNINGS       NaN            F  145967292   \n",
      "3                  6  ...        ACCEPTED       NaN            F  145974034   \n",
      "4                  6  ...        WARNINGS       NaN            F  175090033   \n",
      "\n",
      "   offense_id  offense_code attempt_complete_flag location_id  \\\n",
      "0   185984862           520                     C          25   \n",
      "1   185984863           35B                     C          25   \n",
      "2   185984864           35A                     C          25   \n",
      "3   185990229           13B                     C          35   \n",
      "4   198846184           23D                     C          35   \n",
      "\n",
      "   num_premises_entered  method_entry_code  \n",
      "0                   NaN                NaN  \n",
      "1                   NaN                NaN  \n",
      "2                   NaN                NaN  \n",
      "3                   NaN                NaN  \n",
      "4                   NaN                NaN  \n",
      "\n",
      "[5 rows x 21 columns]\n",
      "0\n",
      "70757\n",
      "34529\n"
     ]
    }
   ],
   "source": [
    "incident_2022 = pd.read_csv(f\"{prev_year_path}\\\\NIBRS_incident.csv\")\n",
    "offense_2022 = pd.read_csv(f\"{prev_year_path}\\\\NIBRS_OFFENSE.csv\")\n",
    "print(len(incident_2022))\n",
    "incident_2023 = pd.read_csv(f\"{to_predict_path}\\\\NIBRS_incident.csv\")\n",
    "offense_2023 = pd.read_csv(f\"{to_predict_path}\\\\NIBRS_OFFENSE.csv\")\n",
    "print(len(incident_2023), len(offense_2023))\n",
    "incident = pd.concat([incident_2022,incident_2023], axis=0)\n",
    "offense = pd.concat([offense_2022, offense_2023], axis=0)\n",
    "print(len(incident))\n",
    "crime_by_location = incident.merge(offense, on = ['data_year','incident_id'])\n",
    "print(len(crime_by_location),crime_by_location.isna().sum())\n",
    "print(crime_by_location.head())\n",
    "print(incident_2023['incident_id'].duplicated().sum())\n",
    "print(crime_by_location['incident_id'].duplicated().sum())\n",
    "print(offense_2023['incident_id'].duplicated().sum())"
   ]
  },
  {
   "cell_type": "code",
   "execution_count": 230,
   "id": "8eb9f575",
   "metadata": {},
   "outputs": [
    {
     "name": "stdout",
     "output_type": "stream",
     "text": [
      "   incident_date  month\n",
      "4     2022-12-26     12\n",
      "5     2022-12-16     12\n",
      "7     2022-12-01     12\n",
      "8     2022-12-01     12\n",
      "12    2022-11-28     11\n"
     ]
    }
   ],
   "source": [
    "crime_by_location['incident_date'] = pd.to_datetime(crime_by_location['incident_date'], errors='coerce')\n",
    "crime_by_location = crime_by_location[\n",
    "    (\n",
    "        crime_by_location[\"incident_date\"].dt.year==predict_year)\n",
    "        | (\n",
    "            (crime_by_location[\"incident_date\"].dt.month.isin([9,10,11,12])) & (crime_by_location[\"incident_date\"].dt.year == predict_year-1)\n",
    "    )\n",
    "]\n",
    "crime_by_location['month'] = crime_by_location['incident_date'].dt.month\n",
    "crime_by_location['day'] = crime_by_location['incident_date'].dt.day\n",
    "print(crime_by_location[['incident_date', 'month']].head())"
   ]
  },
  {
   "cell_type": "code",
   "execution_count": 231,
   "id": "836b7d05",
   "metadata": {},
   "outputs": [],
   "source": [
    "crime_dropna = crime_by_location.drop(columns = ['data_home','num_premises_entered', 'method_entry_code', 'cleared_except_date'])"
   ]
  },
  {
   "cell_type": "code",
   "execution_count": 232,
   "id": "d1633e67",
   "metadata": {},
   "outputs": [
    {
     "data": {
      "text/plain": [
       "data_year                0\n",
       "agency_id                0\n",
       "incident_id              0\n",
       "nibrs_month_id           0\n",
       "cargo_theft_flag         0\n",
       "submission_date          0\n",
       "incident_date            0\n",
       "report_date_flag         0\n",
       "incident_hour            0\n",
       "cleared_except_id        0\n",
       "incident_status          0\n",
       "orig_format              0\n",
       "did                      0\n",
       "offense_id               0\n",
       "offense_code             0\n",
       "attempt_complete_flag    0\n",
       "location_id              0\n",
       "month                    0\n",
       "day                      0\n",
       "dtype: int64"
      ]
     },
     "execution_count": 232,
     "metadata": {},
     "output_type": "execute_result"
    }
   ],
   "source": [
    "crime_dropna.isnull().sum()"
   ]
  },
  {
   "cell_type": "code",
   "execution_count": 233,
   "id": "c93379f5",
   "metadata": {},
   "outputs": [],
   "source": [
    "crime_featured = crime_dropna.copy()\n",
    "crime_featured[\"WeekDay\"] = crime_featured[\"incident_date\"].dt.weekday\n",
    "crime_featured[\"IsWeekDay\"] = (crime_featured[\"WeekDay\"] < 5).astype(bool)\n",
    "crime_featured[\"Isweekend\"] = (crime_featured[\"WeekDay\"] >= 5).astype(bool)\n",
    "hour_bins = [0, 6, 12, 18, 24]\n",
    "hour_labels = [\"Night\", \"Morning\", \"Afternoon\", \"Evening\"]\n",
    "season_bins = [0, 3, 6, 9, 12]\n",
    "season_labels = [\"Winter\", \"Spring\", \"Summer\", \"Fall\"]\n",
    "crime_featured[\"Season\"] = pd.cut(\n",
    "    crime_featured[\"month\"], bins=season_bins, labels=season_labels, include_lowest=True\n",
    ")\n",
    "crime_featured[\"TimeCategory\"] = pd.cut(\n",
    "    crime_featured[\"incident_hour\"], bins=hour_bins, labels=hour_labels, include_lowest=True\n",
    ")\n",
    "time_dummies = pd.get_dummies(crime_featured[\"TimeCategory\"])\n",
    "crime_featured = pd.concat([crime_featured, time_dummies], axis=1)\n"
   ]
  },
  {
   "cell_type": "code",
   "execution_count": 234,
   "id": "f7c5e6f2",
   "metadata": {},
   "outputs": [],
   "source": [
    "from pandas.tseries.holiday import USFederalHolidayCalendar\n",
    "\n",
    "cal = USFederalHolidayCalendar()\n",
    "\n",
    "start_date = crime_featured[\"incident_date\"].min()\n",
    "end_date = crime_featured[\"incident_date\"].max()\n",
    "\n",
    "# Get holidays between these dates\n",
    "holidays = cal.holidays(start=start_date, end=end_date)\n",
    "\n",
    "# Check if each date is a holiday\n",
    "crime_featured[\"IsHoliday\"] = crime_featured[\"incident_date\"].dt.date.isin(holidays.date).astype(int)"
   ]
  },
  {
   "cell_type": "code",
   "execution_count": 235,
   "id": "0a109757",
   "metadata": {},
   "outputs": [],
   "source": [
    "import calendar\n",
    "\n",
    "crime_timed = crime_featured.copy()\n",
    "crime_timed[\"crime_count\"] = 1\n",
    "holiday_calendar = (\n",
    "    crime_timed[crime_timed[\"IsHoliday\"] == 1]\n",
    "    .drop_duplicates(subset=[\"data_year\", \"month\", \"day\"])  # count each holiday once per day\n",
    "    .groupby([\"data_year\", \"month\"], as_index=False)\n",
    "    .agg(holiday_num=(\"day\", \"count\"))\n",
    ")"
   ]
  },
  {
   "cell_type": "code",
   "execution_count": 236,
   "id": "f6359012",
   "metadata": {},
   "outputs": [
    {
     "name": "stdout",
     "output_type": "stream",
     "text": [
      "     data_year  month  location_id  crime_count  weekday  weekend  morning  \\\n",
      "0         2022      9            1           18       10        8        8   \n",
      "1         2022      9            2           19       18        1        6   \n",
      "2         2022      9            3            6        4        2        3   \n",
      "3         2022      9            4           22       13        9        1   \n",
      "4         2022      9            5           10        9        1        1   \n",
      "..         ...    ...          ...          ...      ...      ...      ...   \n",
      "715       2023     12           41          258      184       74       49   \n",
      "716       2023     12           42            2        2        0        1   \n",
      "717       2023     12           43           47       24       23        5   \n",
      "718       2023     12           44          270      188       82       81   \n",
      "719       2023     12           98          758      570      188      263   \n",
      "\n",
      "     afternoon  evening  night  holiday_num  num_days  morning_rate  \\\n",
      "0            4        1      5            1        30      0.444444   \n",
      "1           10        1      2            1        30      0.315789   \n",
      "2            1        2      0            1        30      0.500000   \n",
      "3           11        8      2            1        30      0.045455   \n",
      "4            0        3      6            1        30      0.100000   \n",
      "..         ...      ...    ...          ...       ...           ...   \n",
      "715         79       67     63            1        31      0.189922   \n",
      "716          0        0      1            1        31      0.500000   \n",
      "717         29       10      3            1        31      0.106383   \n",
      "718        123       35     31            1        31      0.300000   \n",
      "719        249       95    151            1        31      0.346966   \n",
      "\n",
      "     afternoon_rate  evening_rate  night_rate  sin_month  cos_month  time_id  \n",
      "0          0.222222      0.055556    0.277778  -0.866025  -0.500000    24273  \n",
      "1          0.526316      0.052632    0.105263  -0.866025  -0.500000    24273  \n",
      "2          0.166667      0.333333    0.000000  -0.866025  -0.500000    24273  \n",
      "3          0.500000      0.363636    0.090909  -0.866025  -0.500000    24273  \n",
      "4          0.000000      0.300000    0.600000  -0.866025  -0.500000    24273  \n",
      "..              ...           ...         ...        ...        ...      ...  \n",
      "715        0.306202      0.259690    0.244186  -0.500000   0.866025    24288  \n",
      "716        0.000000      0.000000    0.500000  -0.500000   0.866025    24288  \n",
      "717        0.617021      0.212766    0.063830  -0.500000   0.866025    24288  \n",
      "718        0.455556      0.129630    0.114815  -0.500000   0.866025    24288  \n",
      "719        0.328496      0.125330    0.199208  -0.500000   0.866025    24288  \n",
      "\n",
      "[720 rows x 19 columns]\n"
     ]
    }
   ],
   "source": [
    "# Group by year and month and calculate aggregate values\n",
    "aggregated_crime = crime_timed.groupby(['data_year','month','location_id'],as_index=False,\n",
    "    observed=False,).agg(\n",
    "    crime_count=(\"crime_count\", \"sum\"),\n",
    "    weekday=(\"IsWeekDay\", \"sum\"),\n",
    "    weekend=(\"Isweekend\", \"sum\"),\n",
    "    morning=(\"Morning\", \"sum\"),\n",
    "    afternoon=(\"Afternoon\", \"sum\"),\n",
    "    evening=(\"Evening\", \"sum\"),\n",
    "    night=(\"Night\", \"sum\"),\n",
    "   )\n",
    "aggregated_crime = pd.merge(aggregated_crime, holiday_calendar, on=[\"data_year\", \"month\"], how=\"left\")\n",
    "aggregated_crime[\"holiday_num\"] = aggregated_crime[\"holiday_num\"].fillna(0).astype(int)\n",
    "aggregated_crime[\"num_days\"] = aggregated_crime.apply(\n",
    "    lambda row: calendar.monthrange(row[\"data_year\"], row[\"month\"])[1], axis=1\n",
    ")\n",
    "ls_features = [\n",
    "    \"morning\",\n",
    "    \"afternoon\",\n",
    "    \"evening\",\n",
    "    \"night\",\n",
    "    # \"holiday\",\n",
    "    # \"weekday\",\n",
    "    # \"weekend\",\n",
    "]\n",
    "for feature in ls_features:\n",
    "    aggregated_crime[f\"{feature}_rate\"] = aggregated_crime[feature] / aggregated_crime[\"crime_count\"]\n",
    "aggregated_crime[\"sin_month\"] = np.sin(2 * np.pi * (aggregated_crime[\"month\"] - 1) / 12)\n",
    "aggregated_crime[\"cos_month\"] = np.cos(2 * np.pi * (aggregated_crime[\"month\"] - 1) / 12)\n",
    "# Create a time ID variable for easier shifting\n",
    "aggregated_crime[\"time_id\"] = aggregated_crime[\"data_year\"] * 12 + aggregated_crime[\"month\"]\n",
    "\n",
    "print(aggregated_crime)"
   ]
  },
  {
   "cell_type": "code",
   "execution_count": 237,
   "id": "e4ae50dd",
   "metadata": {},
   "outputs": [
    {
     "name": "stdout",
     "output_type": "stream",
     "text": [
      "length before drop, 541\n",
      "length after drop, 536\n"
     ]
    }
   ],
   "source": [
    "# Sort to prepare for calculation\n",
    "crime_predict = aggregated_crime.sort_values(['location_id','time_id']).reset_index(drop=True)\n",
    "\n",
    "# Calculate crime increase rate compared to previous month\n",
    "crime_predict['crime_increase'] = crime_predict.groupby('location_id')['crime_count'].pct_change()\n",
    "\n",
    "# Create shifted features\n",
    "crime_predict['prev_1_crime_increase'] = crime_predict['crime_increase'].shift(1)\n",
    "crime_predict['prev_2_crime_increase'] = crime_predict['crime_increase'].shift(2)\n",
    "crime_predict['prev_3_crime_increase'] = crime_predict['crime_increase'].shift(3)\n",
    "\n",
    "# Calculate average of previous 3 months' increases\n",
    "crime_predict['avg_crime_increase'] = crime_predict[\n",
    "    ['prev_1_crime_increase', 'prev_2_crime_increase', 'prev_3_crime_increase']\n",
    "].mean(axis=1)\n",
    "\n",
    "# Filter for only needed data\n",
    "features = crime_predict[crime_predict['data_year'] == predict_year].copy()\n",
    "to_predict = features.drop(columns=['crime_increase'])\n",
    "print(\"length before drop,\",len(to_predict))\n",
    "to_predict = to_predict.dropna()\n",
    "print(\"length after drop,\",len(to_predict))\n",
    "to_predict.to_csv(f\"{output_prefix}_to_predict.csv\", index=False)"
   ]
  },
  {
   "cell_type": "code",
   "execution_count": 238,
   "id": "a7b2f4af",
   "metadata": {},
   "outputs": [
    {
     "data": {
      "text/plain": [
       "data_year                0\n",
       "month                    0\n",
       "location_id              0\n",
       "crime_count              0\n",
       "weekday                  0\n",
       "weekend                  0\n",
       "morning                  0\n",
       "afternoon                0\n",
       "evening                  0\n",
       "night                    0\n",
       "holiday_num              0\n",
       "num_days                 0\n",
       "morning_rate             0\n",
       "afternoon_rate           0\n",
       "evening_rate             0\n",
       "night_rate               0\n",
       "sin_month                0\n",
       "cos_month                0\n",
       "time_id                  0\n",
       "prev_1_crime_increase    0\n",
       "prev_2_crime_increase    0\n",
       "prev_3_crime_increase    0\n",
       "avg_crime_increase       0\n",
       "dtype: int64"
      ]
     },
     "execution_count": 238,
     "metadata": {},
     "output_type": "execute_result"
    }
   ],
   "source": [
    "to_predict.isnull().sum()"
   ]
  }
 ],
 "metadata": {
  "kernelspec": {
   "display_name": ".venv",
   "language": "python",
   "name": "python3"
  },
  "language_info": {
   "codemirror_mode": {
    "name": "ipython",
    "version": 3
   },
   "file_extension": ".py",
   "mimetype": "text/x-python",
   "name": "python",
   "nbconvert_exporter": "python",
   "pygments_lexer": "ipython3",
   "version": "3.11.4"
  }
 },
 "nbformat": 4,
 "nbformat_minor": 5
}
