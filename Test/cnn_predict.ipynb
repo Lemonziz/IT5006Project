{
 "cells": [
  {
   "cell_type": "code",
   "execution_count": 17,
   "id": "23dc59c7",
   "metadata": {},
   "outputs": [],
   "source": [
    "import pandas as pd\n",
    "import torch\n",
    "import torch.nn as nn\n",
    "from torch.utils.data import Dataset, DataLoader\n",
    "from sklearn.preprocessing import StandardScaler, OneHotEncoder\n",
    "from sklearn.compose import ColumnTransformer\n",
    "from sklearn.pipeline import Pipeline\n",
    "import numpy as np"
   ]
  },
  {
   "cell_type": "code",
   "execution_count": 18,
   "id": "f264d25e",
   "metadata": {},
   "outputs": [],
   "source": [
    "df_test = pd.read_csv('time_series_data_AL.csv')\n",
    "\n",
    "numerical_cols = [\"sin_month\", \"cos_month\", \"Year\", \"Month\", \"num_days\", \"holiday_num\"]\n",
    "numerical_features = [\n",
    "    \"crime_count\",\n",
    "    \"crime_pct_change\",\n",
    "    \"morning\",\n",
    "    \"afternoon\",\n",
    "    \"evening\",\n",
    "    \"night\"\n",
    "]\n",
    "\n",
    "for i in [1, 2, 3, 6, 12]:\n",
    "    for j in numerical_features:\n",
    "        numerical_cols.append(f\"{j}_lag{i}\")\n",
    "for i in [3, 6]:\n",
    "    for j in numerical_features:\n",
    "        numerical_cols.append(f\"{j}_ma{i}\")\n",
    "\n",
    "X_test = df_test[numerical_cols]\n",
    "y_test = df_test[\"crime_count\"]\n",
    "\n",
    "cat_pipe = Pipeline([\n",
    "    (\"encoder\", OneHotEncoder(handle_unknown=\"ignore\")),\n",
    "])\n",
    "\n",
    "preprocessor = ColumnTransformer(\n",
    "    transformers=[\n",
    "        (\"num\", StandardScaler(), numerical_cols)\n",
    "    ]\n",
    ")"
   ]
  },
  {
   "cell_type": "code",
   "execution_count": 19,
   "id": "c4612c49",
   "metadata": {},
   "outputs": [],
   "source": [
    "X_test_processed = preprocessor.fit_transform(X_test)\n",
    "X_test_tensor = torch.tensor(X_test_processed, dtype=torch.float32)\n",
    "y_test_tensor = torch.tensor(y_test.values, dtype=torch.float32)"
   ]
  },
  {
   "cell_type": "code",
   "execution_count": 20,
   "id": "6441382e",
   "metadata": {},
   "outputs": [],
   "source": [
    "class CrimeDataset(Dataset):\n",
    "    def __init__(self, X, y):\n",
    "        self.X = X\n",
    "        self.y = y\n",
    "    \n",
    "    def __len__(self):\n",
    "        return len(self.y)\n",
    "    \n",
    "    def __getitem__(self, idx):\n",
    "        return self.X[idx], self.y[idx]\n",
    "\n",
    "test_dataset = CrimeDataset(X_test_tensor, y_test_tensor)\n",
    "\n",
    "batch_size = 8\n",
    "test_loader = DataLoader(test_dataset, batch_size=batch_size, shuffle=False)"
   ]
  },
  {
   "cell_type": "code",
   "execution_count": 21,
   "id": "794e7798",
   "metadata": {},
   "outputs": [
    {
     "data": {
      "text/plain": [
       "CrimePredictionModel(\n",
       "  (fc1): Linear(in_features=48, out_features=128, bias=True)\n",
       "  (fc2): Linear(in_features=128, out_features=64, bias=True)\n",
       "  (fc3): Linear(in_features=64, out_features=32, bias=True)\n",
       "  (fc4): Linear(in_features=32, out_features=1, bias=True)\n",
       "  (relu): ReLU()\n",
       "  (dropout): Dropout(p=0.2, inplace=False)\n",
       ")"
      ]
     },
     "execution_count": 21,
     "metadata": {},
     "output_type": "execute_result"
    }
   ],
   "source": [
    "class CrimePredictionModel(nn.Module):\n",
    "    def __init__(self, input_dim):\n",
    "        super(CrimePredictionModel, self).__init__()\n",
    "        self.fc1 = nn.Linear(input_dim, 128)\n",
    "        self.fc2 = nn.Linear(128, 64)\n",
    "        self.fc3 = nn.Linear(64, 32)\n",
    "        self.fc4 = nn.Linear(32, 1)\n",
    "        self.relu = nn.ReLU()\n",
    "        self.dropout = nn.Dropout(p=0.2)\n",
    "\n",
    "    def forward(self, x):\n",
    "        x = self.relu(self.fc1(x))\n",
    "        x = self.dropout(x)\n",
    "        x = self.relu(self.fc2(x))\n",
    "        x = self.dropout(x)\n",
    "        x = self.relu(self.fc3(x))\n",
    "        x = self.fc4(x)\n",
    "        return x\n",
    "\n",
    "input_dim = X_test_processed.shape[1]\n",
    "best_model = CrimePredictionModel(input_dim)\n",
    "best_model.load_state_dict(torch.load(\"best_model.pth\"))\n",
    "best_model.eval()"
   ]
  },
  {
   "cell_type": "code",
   "execution_count": 22,
   "id": "9af9b4b2",
   "metadata": {},
   "outputs": [
    {
     "name": "stdout",
     "output_type": "stream",
     "text": [
      "Predictions saved to 'cnn_predictions.csv'\n"
     ]
    }
   ],
   "source": [
    "with torch.no_grad():\n",
    "    y_test_pred = best_model(X_test_tensor).numpy().squeeze()\n",
    "\n",
    "df_results = df_test.copy()\n",
    "df_results['cnn_pred'] = 0.0\n",
    "df_results.loc[df_test.index, 'cnn_pred'] = y_test_pred\n",
    "df_results.to_csv('cnn_predictions.csv', index=False)\n",
    "print(\"Predictions saved to 'cnn_predictions.csv'\")\n"
   ]
  },
  {
   "cell_type": "code",
   "execution_count": null,
   "id": "51ddc956",
   "metadata": {},
   "outputs": [],
   "source": []
  }
 ],
 "metadata": {
  "kernelspec": {
   "display_name": "torch",
   "language": "python",
   "name": "python3"
  },
  "language_info": {
   "codemirror_mode": {
    "name": "ipython",
    "version": 3
   },
   "file_extension": ".py",
   "mimetype": "text/x-python",
   "name": "python",
   "nbconvert_exporter": "python",
   "pygments_lexer": "ipython3",
   "version": "3.10.14"
  }
 },
 "nbformat": 4,
 "nbformat_minor": 5
}
