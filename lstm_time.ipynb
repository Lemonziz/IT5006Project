{
 "cells": [
  {
   "cell_type": "code",
   "execution_count": 1,
   "metadata": {},
   "outputs": [],
   "source": [
    "import torch\n",
    "import torch.nn as nn\n",
    "import torch.nn.functional as F\n",
    "import numpy as np\n",
    "import pandas as pd\n",
    "import matplotlib.pyplot as plt\n",
    "from sklearn.preprocessing import MinMaxScaler\n",
    "import math\n",
    "import time"
   ]
  },
  {
   "cell_type": "markdown",
   "metadata": {},
   "source": [
    "Device configuration\n"
   ]
  },
  {
   "cell_type": "code",
   "execution_count": 2,
   "metadata": {},
   "outputs": [
    {
     "name": "stdout",
     "output_type": "stream",
     "text": [
      "cpu\n"
     ]
    }
   ],
   "source": [
    "device = torch.device(\"cuda\" if torch.cuda.is_available() else \"cpu\")\n",
    "seed = 42\n",
    "np.random.seed(seed)\n",
    "torch.manual_seed(seed)\n",
    "print(device)"
   ]
  },
  {
   "cell_type": "code",
   "execution_count": 3,
   "metadata": {},
   "outputs": [],
   "source": [
    "if torch.cuda.is_available():\n",
    "    print(\"cuda available with GPU:\", torch.cuda.get_device_name(0))"
   ]
  },
  {
   "cell_type": "markdown",
   "metadata": {},
   "source": [
    "Load and prepare data<br>\n",
    "Create a DataFrame from the data (you might need to adjust this based on how you load your data)\n"
   ]
  },
  {
   "cell_type": "code",
   "execution_count": 4,
   "metadata": {},
   "outputs": [],
   "source": [
    "data_path = \"./data/\""
   ]
  },
  {
   "cell_type": "code",
   "execution_count": 5,
   "metadata": {},
   "outputs": [],
   "source": [
    "train_data = pd.read_csv(data_path + \"rnn_train_data.csv\")\n",
    "data = pd.read_csv(data_path + \"rnn_full_data.csv\")"
   ]
  },
  {
   "cell_type": "markdown",
   "metadata": {},
   "source": [
    "agg crime_count\n"
   ]
  },
  {
   "cell_type": "code",
   "execution_count": 6,
   "metadata": {},
   "outputs": [
    {
     "data": {
      "text/html": [
       "<div>\n",
       "<style scoped>\n",
       "    .dataframe tbody tr th:only-of-type {\n",
       "        vertical-align: middle;\n",
       "    }\n",
       "\n",
       "    .dataframe tbody tr th {\n",
       "        vertical-align: top;\n",
       "    }\n",
       "\n",
       "    .dataframe thead th {\n",
       "        text-align: right;\n",
       "    }\n",
       "</style>\n",
       "<table border=\"1\" class=\"dataframe\">\n",
       "  <thead>\n",
       "    <tr style=\"text-align: right;\">\n",
       "      <th></th>\n",
       "      <th>Year</th>\n",
       "      <th>Month</th>\n",
       "      <th>crime_count</th>\n",
       "    </tr>\n",
       "  </thead>\n",
       "  <tbody>\n",
       "    <tr>\n",
       "      <th>0</th>\n",
       "      <td>2020</td>\n",
       "      <td>1</td>\n",
       "      <td>19653.0</td>\n",
       "    </tr>\n",
       "    <tr>\n",
       "      <th>1</th>\n",
       "      <td>2020</td>\n",
       "      <td>2</td>\n",
       "      <td>18018.0</td>\n",
       "    </tr>\n",
       "    <tr>\n",
       "      <th>2</th>\n",
       "      <td>2020</td>\n",
       "      <td>3</td>\n",
       "      <td>16526.0</td>\n",
       "    </tr>\n",
       "    <tr>\n",
       "      <th>3</th>\n",
       "      <td>2020</td>\n",
       "      <td>4</td>\n",
       "      <td>12716.0</td>\n",
       "    </tr>\n",
       "    <tr>\n",
       "      <th>4</th>\n",
       "      <td>2020</td>\n",
       "      <td>5</td>\n",
       "      <td>17329.0</td>\n",
       "    </tr>\n",
       "    <tr>\n",
       "      <th>5</th>\n",
       "      <td>2020</td>\n",
       "      <td>6</td>\n",
       "      <td>17385.0</td>\n",
       "    </tr>\n",
       "    <tr>\n",
       "      <th>6</th>\n",
       "      <td>2020</td>\n",
       "      <td>7</td>\n",
       "      <td>19298.0</td>\n",
       "    </tr>\n",
       "    <tr>\n",
       "      <th>7</th>\n",
       "      <td>2020</td>\n",
       "      <td>8</td>\n",
       "      <td>19586.0</td>\n",
       "    </tr>\n",
       "    <tr>\n",
       "      <th>8</th>\n",
       "      <td>2020</td>\n",
       "      <td>9</td>\n",
       "      <td>17585.0</td>\n",
       "    </tr>\n",
       "    <tr>\n",
       "      <th>9</th>\n",
       "      <td>2020</td>\n",
       "      <td>10</td>\n",
       "      <td>18029.0</td>\n",
       "    </tr>\n",
       "    <tr>\n",
       "      <th>10</th>\n",
       "      <td>2020</td>\n",
       "      <td>11</td>\n",
       "      <td>16127.0</td>\n",
       "    </tr>\n",
       "    <tr>\n",
       "      <th>11</th>\n",
       "      <td>2020</td>\n",
       "      <td>12</td>\n",
       "      <td>15712.0</td>\n",
       "    </tr>\n",
       "    <tr>\n",
       "      <th>12</th>\n",
       "      <td>2021</td>\n",
       "      <td>1</td>\n",
       "      <td>15926.0</td>\n",
       "    </tr>\n",
       "    <tr>\n",
       "      <th>13</th>\n",
       "      <td>2021</td>\n",
       "      <td>2</td>\n",
       "      <td>12815.0</td>\n",
       "    </tr>\n",
       "    <tr>\n",
       "      <th>14</th>\n",
       "      <td>2021</td>\n",
       "      <td>3</td>\n",
       "      <td>15646.0</td>\n",
       "    </tr>\n",
       "    <tr>\n",
       "      <th>15</th>\n",
       "      <td>2021</td>\n",
       "      <td>4</td>\n",
       "      <td>15196.0</td>\n",
       "    </tr>\n",
       "    <tr>\n",
       "      <th>16</th>\n",
       "      <td>2021</td>\n",
       "      <td>5</td>\n",
       "      <td>17426.0</td>\n",
       "    </tr>\n",
       "    <tr>\n",
       "      <th>17</th>\n",
       "      <td>2021</td>\n",
       "      <td>6</td>\n",
       "      <td>18421.0</td>\n",
       "    </tr>\n",
       "    <tr>\n",
       "      <th>18</th>\n",
       "      <td>2021</td>\n",
       "      <td>7</td>\n",
       "      <td>18787.0</td>\n",
       "    </tr>\n",
       "    <tr>\n",
       "      <th>19</th>\n",
       "      <td>2021</td>\n",
       "      <td>8</td>\n",
       "      <td>18100.0</td>\n",
       "    </tr>\n",
       "    <tr>\n",
       "      <th>20</th>\n",
       "      <td>2021</td>\n",
       "      <td>9</td>\n",
       "      <td>18837.0</td>\n",
       "    </tr>\n",
       "    <tr>\n",
       "      <th>21</th>\n",
       "      <td>2021</td>\n",
       "      <td>10</td>\n",
       "      <td>18840.0</td>\n",
       "    </tr>\n",
       "    <tr>\n",
       "      <th>22</th>\n",
       "      <td>2021</td>\n",
       "      <td>11</td>\n",
       "      <td>16834.0</td>\n",
       "    </tr>\n",
       "    <tr>\n",
       "      <th>23</th>\n",
       "      <td>2021</td>\n",
       "      <td>12</td>\n",
       "      <td>16044.0</td>\n",
       "    </tr>\n",
       "    <tr>\n",
       "      <th>24</th>\n",
       "      <td>2022</td>\n",
       "      <td>1</td>\n",
       "      <td>15320.0</td>\n",
       "    </tr>\n",
       "    <tr>\n",
       "      <th>25</th>\n",
       "      <td>2022</td>\n",
       "      <td>2</td>\n",
       "      <td>14911.0</td>\n",
       "    </tr>\n",
       "    <tr>\n",
       "      <th>26</th>\n",
       "      <td>2022</td>\n",
       "      <td>3</td>\n",
       "      <td>17931.0</td>\n",
       "    </tr>\n",
       "    <tr>\n",
       "      <th>27</th>\n",
       "      <td>2022</td>\n",
       "      <td>4</td>\n",
       "      <td>17753.0</td>\n",
       "    </tr>\n",
       "    <tr>\n",
       "      <th>28</th>\n",
       "      <td>2022</td>\n",
       "      <td>5</td>\n",
       "      <td>19899.0</td>\n",
       "    </tr>\n",
       "    <tr>\n",
       "      <th>29</th>\n",
       "      <td>2022</td>\n",
       "      <td>6</td>\n",
       "      <td>20438.0</td>\n",
       "    </tr>\n",
       "    <tr>\n",
       "      <th>30</th>\n",
       "      <td>2022</td>\n",
       "      <td>7</td>\n",
       "      <td>21897.0</td>\n",
       "    </tr>\n",
       "    <tr>\n",
       "      <th>31</th>\n",
       "      <td>2022</td>\n",
       "      <td>8</td>\n",
       "      <td>21882.0</td>\n",
       "    </tr>\n",
       "    <tr>\n",
       "      <th>32</th>\n",
       "      <td>2022</td>\n",
       "      <td>9</td>\n",
       "      <td>21871.0</td>\n",
       "    </tr>\n",
       "    <tr>\n",
       "      <th>33</th>\n",
       "      <td>2022</td>\n",
       "      <td>10</td>\n",
       "      <td>22692.0</td>\n",
       "    </tr>\n",
       "    <tr>\n",
       "      <th>34</th>\n",
       "      <td>2022</td>\n",
       "      <td>11</td>\n",
       "      <td>20461.0</td>\n",
       "    </tr>\n",
       "    <tr>\n",
       "      <th>35</th>\n",
       "      <td>2022</td>\n",
       "      <td>12</td>\n",
       "      <td>19832.0</td>\n",
       "    </tr>\n",
       "    <tr>\n",
       "      <th>36</th>\n",
       "      <td>2023</td>\n",
       "      <td>1</td>\n",
       "      <td>21052.0</td>\n",
       "    </tr>\n",
       "    <tr>\n",
       "      <th>37</th>\n",
       "      <td>2023</td>\n",
       "      <td>2</td>\n",
       "      <td>18358.0</td>\n",
       "    </tr>\n",
       "    <tr>\n",
       "      <th>38</th>\n",
       "      <td>2023</td>\n",
       "      <td>3</td>\n",
       "      <td>20667.0</td>\n",
       "    </tr>\n",
       "    <tr>\n",
       "      <th>39</th>\n",
       "      <td>2023</td>\n",
       "      <td>4</td>\n",
       "      <td>20685.0</td>\n",
       "    </tr>\n",
       "    <tr>\n",
       "      <th>40</th>\n",
       "      <td>2023</td>\n",
       "      <td>5</td>\n",
       "      <td>22150.0</td>\n",
       "    </tr>\n",
       "    <tr>\n",
       "      <th>41</th>\n",
       "      <td>2023</td>\n",
       "      <td>6</td>\n",
       "      <td>22645.0</td>\n",
       "    </tr>\n",
       "    <tr>\n",
       "      <th>42</th>\n",
       "      <td>2023</td>\n",
       "      <td>7</td>\n",
       "      <td>23971.0</td>\n",
       "    </tr>\n",
       "    <tr>\n",
       "      <th>43</th>\n",
       "      <td>2023</td>\n",
       "      <td>8</td>\n",
       "      <td>24138.0</td>\n",
       "    </tr>\n",
       "    <tr>\n",
       "      <th>44</th>\n",
       "      <td>2023</td>\n",
       "      <td>9</td>\n",
       "      <td>22594.0</td>\n",
       "    </tr>\n",
       "    <tr>\n",
       "      <th>45</th>\n",
       "      <td>2023</td>\n",
       "      <td>10</td>\n",
       "      <td>23033.0</td>\n",
       "    </tr>\n",
       "    <tr>\n",
       "      <th>46</th>\n",
       "      <td>2023</td>\n",
       "      <td>11</td>\n",
       "      <td>21368.0</td>\n",
       "    </tr>\n",
       "    <tr>\n",
       "      <th>47</th>\n",
       "      <td>2023</td>\n",
       "      <td>12</td>\n",
       "      <td>20585.0</td>\n",
       "    </tr>\n",
       "    <tr>\n",
       "      <th>48</th>\n",
       "      <td>2024</td>\n",
       "      <td>1</td>\n",
       "      <td>19518.0</td>\n",
       "    </tr>\n",
       "    <tr>\n",
       "      <th>49</th>\n",
       "      <td>2024</td>\n",
       "      <td>2</td>\n",
       "      <td>19889.0</td>\n",
       "    </tr>\n",
       "    <tr>\n",
       "      <th>50</th>\n",
       "      <td>2024</td>\n",
       "      <td>3</td>\n",
       "      <td>20853.0</td>\n",
       "    </tr>\n",
       "    <tr>\n",
       "      <th>51</th>\n",
       "      <td>2024</td>\n",
       "      <td>4</td>\n",
       "      <td>20394.0</td>\n",
       "    </tr>\n",
       "    <tr>\n",
       "      <th>52</th>\n",
       "      <td>2024</td>\n",
       "      <td>5</td>\n",
       "      <td>22905.0</td>\n",
       "    </tr>\n",
       "    <tr>\n",
       "      <th>53</th>\n",
       "      <td>2024</td>\n",
       "      <td>6</td>\n",
       "      <td>23086.0</td>\n",
       "    </tr>\n",
       "    <tr>\n",
       "      <th>54</th>\n",
       "      <td>2024</td>\n",
       "      <td>7</td>\n",
       "      <td>23991.0</td>\n",
       "    </tr>\n",
       "    <tr>\n",
       "      <th>55</th>\n",
       "      <td>2024</td>\n",
       "      <td>8</td>\n",
       "      <td>22825.0</td>\n",
       "    </tr>\n",
       "    <tr>\n",
       "      <th>56</th>\n",
       "      <td>2024</td>\n",
       "      <td>9</td>\n",
       "      <td>22786.0</td>\n",
       "    </tr>\n",
       "    <tr>\n",
       "      <th>57</th>\n",
       "      <td>2024</td>\n",
       "      <td>10</td>\n",
       "      <td>22282.0</td>\n",
       "    </tr>\n",
       "    <tr>\n",
       "      <th>58</th>\n",
       "      <td>2024</td>\n",
       "      <td>11</td>\n",
       "      <td>19522.0</td>\n",
       "    </tr>\n",
       "    <tr>\n",
       "      <th>59</th>\n",
       "      <td>2024</td>\n",
       "      <td>12</td>\n",
       "      <td>19269.0</td>\n",
       "    </tr>\n",
       "  </tbody>\n",
       "</table>\n",
       "</div>"
      ],
      "text/plain": [
       "    Year  Month  crime_count\n",
       "0   2020      1      19653.0\n",
       "1   2020      2      18018.0\n",
       "2   2020      3      16526.0\n",
       "3   2020      4      12716.0\n",
       "4   2020      5      17329.0\n",
       "5   2020      6      17385.0\n",
       "6   2020      7      19298.0\n",
       "7   2020      8      19586.0\n",
       "8   2020      9      17585.0\n",
       "9   2020     10      18029.0\n",
       "10  2020     11      16127.0\n",
       "11  2020     12      15712.0\n",
       "12  2021      1      15926.0\n",
       "13  2021      2      12815.0\n",
       "14  2021      3      15646.0\n",
       "15  2021      4      15196.0\n",
       "16  2021      5      17426.0\n",
       "17  2021      6      18421.0\n",
       "18  2021      7      18787.0\n",
       "19  2021      8      18100.0\n",
       "20  2021      9      18837.0\n",
       "21  2021     10      18840.0\n",
       "22  2021     11      16834.0\n",
       "23  2021     12      16044.0\n",
       "24  2022      1      15320.0\n",
       "25  2022      2      14911.0\n",
       "26  2022      3      17931.0\n",
       "27  2022      4      17753.0\n",
       "28  2022      5      19899.0\n",
       "29  2022      6      20438.0\n",
       "30  2022      7      21897.0\n",
       "31  2022      8      21882.0\n",
       "32  2022      9      21871.0\n",
       "33  2022     10      22692.0\n",
       "34  2022     11      20461.0\n",
       "35  2022     12      19832.0\n",
       "36  2023      1      21052.0\n",
       "37  2023      2      18358.0\n",
       "38  2023      3      20667.0\n",
       "39  2023      4      20685.0\n",
       "40  2023      5      22150.0\n",
       "41  2023      6      22645.0\n",
       "42  2023      7      23971.0\n",
       "43  2023      8      24138.0\n",
       "44  2023      9      22594.0\n",
       "45  2023     10      23033.0\n",
       "46  2023     11      21368.0\n",
       "47  2023     12      20585.0\n",
       "48  2024      1      19518.0\n",
       "49  2024      2      19889.0\n",
       "50  2024      3      20853.0\n",
       "51  2024      4      20394.0\n",
       "52  2024      5      22905.0\n",
       "53  2024      6      23086.0\n",
       "54  2024      7      23991.0\n",
       "55  2024      8      22825.0\n",
       "56  2024      9      22786.0\n",
       "57  2024     10      22282.0\n",
       "58  2024     11      19522.0\n",
       "59  2024     12      19269.0"
      ]
     },
     "execution_count": 6,
     "metadata": {},
     "output_type": "execute_result"
    }
   ],
   "source": [
    "train_data = (\n",
    "    train_data.groupby([\"Year\", \"Month\"]).agg({\"crime_count\": \"sum\"}).reset_index()\n",
    ")\n",
    "data = data.groupby([\"Year\", \"Month\"]).agg({\"crime_count\": \"sum\"}).reset_index()\n",
    "test_data = data[data[\"Year\"].isin([2023, 2024])]\n",
    "data"
   ]
  },
  {
   "cell_type": "markdown",
   "metadata": {},
   "source": [
    "Normalize the crime count data\n"
   ]
  },
  {
   "cell_type": "code",
   "execution_count": 7,
   "metadata": {},
   "outputs": [],
   "source": [
    "scaler = MinMaxScaler()\n",
    "crime_data = scaler.fit_transform(train_data[[\"crime_count\"]]).reshape(-1, 1)\n",
    "crime_data_test = scaler.transform(test_data[[\"crime_count\"]]).reshape(-1, 1)"
   ]
  },
  {
   "cell_type": "markdown",
   "metadata": {},
   "source": [
    "Create sequences for time series data\n"
   ]
  },
  {
   "cell_type": "code",
   "execution_count": 8,
   "metadata": {},
   "outputs": [],
   "source": [
    "def create_sequences(data, seq_length):\n",
    "    xs, ys = [], []\n",
    "    for i in range(len(data) - seq_length):\n",
    "        x = data[i : i + seq_length]\n",
    "        y = data[i + seq_length]\n",
    "        xs.append(x)\n",
    "        ys.append(y)\n",
    "    return np.array(xs), np.array(ys)"
   ]
  },
  {
   "cell_type": "markdown",
   "metadata": {},
   "source": [
    "Parameters\n"
   ]
  },
  {
   "cell_type": "code",
   "execution_count": 9,
   "metadata": {},
   "outputs": [],
   "source": [
    "seq_length = 12  # Number of previous months to use for prediction\n",
    "input_size = 1  # Each input is just the crime count\n",
    "hidden_size = 32\n",
    "num_layers = 1\n",
    "batch_size = 1"
   ]
  },
  {
   "cell_type": "markdown",
   "metadata": {},
   "source": [
    "Create sequences\n"
   ]
  },
  {
   "cell_type": "code",
   "execution_count": 10,
   "metadata": {},
   "outputs": [
    {
     "data": {
      "text/plain": [
       "((36, 12, 1), (36, 1), (12, 12, 1), (12, 1))"
      ]
     },
     "execution_count": 10,
     "metadata": {},
     "output_type": "execute_result"
    }
   ],
   "source": [
    "X_train, y_train = create_sequences(crime_data, seq_length)\n",
    "X_test, y_test = create_sequences(crime_data_test, seq_length)\n",
    "X_train.shape, y_train.shape, X_test.shape, y_test.shape"
   ]
  },
  {
   "cell_type": "markdown",
   "metadata": {},
   "source": [
    "Convert to PyTorch tensors\n"
   ]
  },
  {
   "cell_type": "code",
   "execution_count": 11,
   "metadata": {},
   "outputs": [],
   "source": [
    "X_train = torch.FloatTensor(X_train).to(device)\n",
    "y_train = torch.FloatTensor(y_train).to(device)\n",
    "X_test = torch.FloatTensor(X_test).to(device)\n",
    "y_test = torch.FloatTensor(y_test).to(device)"
   ]
  },
  {
   "cell_type": "markdown",
   "metadata": {},
   "source": [
    "Create batches\n"
   ]
  },
  {
   "cell_type": "code",
   "execution_count": 12,
   "metadata": {},
   "outputs": [],
   "source": [
    "def create_batches(X, y, batch_size):\n",
    "    num_batches = len(X) // batch_size\n",
    "    X_batches = []\n",
    "    y_batches = []\n",
    "    for i in range(num_batches):\n",
    "        X_batches.append(X[i * batch_size : (i + 1) * batch_size])\n",
    "        y_batches.append(y[i * batch_size : (i + 1) * batch_size])\n",
    "    return X_batches, y_batches"
   ]
  },
  {
   "cell_type": "code",
   "execution_count": 13,
   "metadata": {},
   "outputs": [
    {
     "data": {
      "text/plain": [
       "((36, 1, 12, 1), (36, 1, 1), (12, 1, 12, 1), (12, 1, 1))"
      ]
     },
     "execution_count": 13,
     "metadata": {},
     "output_type": "execute_result"
    }
   ],
   "source": [
    "X_train_batches, y_train_batches = create_batches(X_train, y_train, batch_size)\n",
    "X_test_batches, y_test_batches = create_batches(X_test, y_test, batch_size)\n",
    "np.shape(X_train_batches), np.shape(y_train_batches), np.shape(\n",
    "    X_test_batches\n",
    "), np.shape(y_test_batches)"
   ]
  },
  {
   "cell_type": "code",
   "execution_count": 14,
   "metadata": {},
   "outputs": [],
   "source": [
    "class CrimeLSTM(nn.Module):\n",
    "    def __init__(self, input_size, hidden_size, num_layers):\n",
    "        super(CrimeLSTM, self).__init__()\n",
    "        self.hidden_size = hidden_size\n",
    "        self.num_layers = num_layers\n",
    "\n",
    "        # RNN layer\n",
    "        self.lstm = nn.LSTM(input_size, hidden_size, num_layers, batch_first=True)\n",
    "\n",
    "        # Output layer\n",
    "        self.fc = nn.Linear(hidden_size, 1)\n",
    "\n",
    "    def forward(self, x):\n",
    "        # Forward propagate RNN\n",
    "        h_0 = torch.zeros(num_layers, batch_size, hidden_size).to(device)\n",
    "        c_0 = torch.zeros(num_layers, batch_size, hidden_size).to(device)\n",
    "        out, (_, _) = self.lstm(x, (h_0, c_0))\n",
    "\n",
    "        # Get output from the last time step\n",
    "        out = self.fc(out[:, -1, :])\n",
    "        return out"
   ]
  },
  {
   "cell_type": "markdown",
   "metadata": {},
   "source": [
    "Initialize model\n"
   ]
  },
  {
   "cell_type": "code",
   "execution_count": 15,
   "metadata": {},
   "outputs": [],
   "source": [
    "model = CrimeLSTM(input_size, hidden_size, num_layers).to(device)"
   ]
  },
  {
   "cell_type": "markdown",
   "metadata": {},
   "source": [
    "Loss and optimizer\n"
   ]
  },
  {
   "cell_type": "code",
   "execution_count": 16,
   "metadata": {},
   "outputs": [],
   "source": [
    "criterion = nn.MSELoss()\n",
    "learning_rate = 0.001\n",
    "optimizer = torch.optim.Adam(model.parameters(), lr=learning_rate)"
   ]
  },
  {
   "cell_type": "markdown",
   "metadata": {},
   "source": [
    "Train the model\n"
   ]
  },
  {
   "cell_type": "code",
   "execution_count": 17,
   "metadata": {},
   "outputs": [],
   "source": [
    "num_epochs = 60\n",
    "total_step = len(X_train_batches)"
   ]
  },
  {
   "cell_type": "code",
   "execution_count": 18,
   "metadata": {},
   "outputs": [
    {
     "name": "stdout",
     "output_type": "stream",
     "text": [
      "Epoch [10/60], Loss: 0.0258\n",
      "Epoch [20/60], Loss: 0.0274\n",
      "Epoch [30/60], Loss: 0.0007\n",
      "Epoch [40/60], Loss: 0.0000\n",
      "Epoch [50/60], Loss: 0.0001\n",
      "Epoch [60/60], Loss: 0.0002\n"
     ]
    }
   ],
   "source": [
    "for epoch in range(num_epochs):\n",
    "    for i in range(total_step):\n",
    "        # Forward pass\n",
    "        outputs = model(X_train_batches[i])\n",
    "        loss = criterion(outputs, y_train_batches[i])\n",
    "        # Backward and optimize\n",
    "        optimizer.zero_grad()\n",
    "        loss.backward()\n",
    "        optimizer.step()\n",
    "    if (epoch + 1) % 10 == 0:\n",
    "        print(f\"Epoch [{epoch+1}/{num_epochs}], Loss: {loss.item():.4f}\")"
   ]
  },
  {
   "cell_type": "markdown",
   "metadata": {},
   "source": [
    "Test the model\n"
   ]
  },
  {
   "cell_type": "code",
   "execution_count": 19,
   "metadata": {},
   "outputs": [
    {
     "name": "stdout",
     "output_type": "stream",
     "text": [
      "Test Loss: 0.0046\n",
      "Test RMSE: 774.72\n"
     ]
    }
   ],
   "source": [
    "model.eval()\n",
    "with torch.no_grad():\n",
    "    # Test on the test set\n",
    "    total_loss = 0\n",
    "    for i in range(len(X_test_batches)):\n",
    "        outputs = model(X_test_batches[i])\n",
    "        loss = criterion(outputs, y_test_batches[i])\n",
    "        total_loss += loss.item()\n",
    "    avg_loss = total_loss / len(X_test_batches)\n",
    "    print(f\"Test Loss: {avg_loss:.4f}\")\n",
    "\n",
    "    # Convert predictions back to original scale\n",
    "    test_predictions = []\n",
    "    for i in range(len(X_test_batches)):\n",
    "        pred = model(X_test_batches[i])\n",
    "        test_predictions.append(pred.cpu().numpy())\n",
    "    test_predictions = np.concatenate(test_predictions, axis=0)\n",
    "    test_predictions = scaler.inverse_transform(test_predictions)\n",
    "\n",
    "    # Convert actual values back to original scale\n",
    "    actual_values = []\n",
    "    for i in range(len(y_test_batches)):\n",
    "        actual_values.append(y_test_batches[i].cpu().numpy())\n",
    "    actual_values = np.concatenate(actual_values, axis=0)\n",
    "    actual_values = scaler.inverse_transform(actual_values)\n",
    "\n",
    "    # Calculate RMSE\n",
    "    rmse = np.sqrt(np.mean((test_predictions - actual_values) ** 2))\n",
    "    print(f\"Test RMSE: {rmse:.2f}\")"
   ]
  },
  {
   "cell_type": "markdown",
   "metadata": {},
   "source": [
    "Predict the next month's crime count\n"
   ]
  },
  {
   "cell_type": "code",
   "execution_count": 20,
   "metadata": {},
   "outputs": [],
   "source": [
    "def predict_next_month(model, data, scaler, seq_length):\n",
    "    # Get the last sequence from the data\n",
    "    last_sequence = data[-seq_length:].reshape(1, seq_length, 1)\n",
    "    last_sequence = torch.FloatTensor(last_sequence).to(device)\n",
    "\n",
    "    # Predict\n",
    "    with torch.no_grad():\n",
    "        model.eval()\n",
    "        next_month_pred = model(last_sequence)\n",
    "\n",
    "    # Inverse transform\n",
    "    next_month_pred = scaler.inverse_transform(next_month_pred.cpu().numpy())\n",
    "    return next_month_pred[0][0]"
   ]
  },
  {
   "cell_type": "markdown",
   "metadata": {},
   "source": [
    "Predict the next month after our dataset\n"
   ]
  },
  {
   "cell_type": "code",
   "execution_count": 21,
   "metadata": {},
   "outputs": [
    {
     "name": "stdout",
     "output_type": "stream",
     "text": [
      "Predicted crime count for next month: 20301.46\n"
     ]
    }
   ],
   "source": [
    "next_month_crime = predict_next_month(model, crime_data, scaler, seq_length)\n",
    "print(f\"Predicted crime count for next month: {next_month_crime:.2f}\")"
   ]
  },
  {
   "cell_type": "markdown",
   "metadata": {},
   "source": [
    "Visualize predictions vs actual values\n"
   ]
  },
  {
   "cell_type": "code",
   "execution_count": 22,
   "metadata": {},
   "outputs": [
    {
     "data": {
      "image/png": "[encoded data removed]",
      "text/plain": [
       "<Figure size 1200x600 with 1 Axes>"
      ]
     },
     "metadata": {},
     "output_type": "display_data"
    }
   ],
   "source": [
    "plt.figure(figsize=(12, 6))\n",
    "plt.plot(actual_values, label=\"Actual Crime Counts\")\n",
    "plt.plot(test_predictions, label=\"Predicted Crime Counts\")\n",
    "plt.title(\"Crime Count Prediction\")\n",
    "plt.xlabel(\"Time Step\")\n",
    "plt.ylabel(\"Crime Count\")\n",
    "plt.legend()\n",
    "plt.grid(True)\n",
    "plt.savefig(format=\"pdf\", fname=\"crime_prediction.pdf\")\n",
    "plt.show()"
   ]
  },
  {
   "cell_type": "code",
   "execution_count": null,
   "metadata": {},
   "outputs": [],
   "source": []
  }
 ],
 "metadata": {
  "kernelspec": {
   "display_name": "IT5006",
   "language": "python",
   "name": "python3"
  },
  "language_info": {
   "codemirror_mode": {
    "name": "ipython",
    "version": 3
   },
   "file_extension": ".py",
   "mimetype": "text/x-python",
   "name": "python",
   "nbconvert_exporter": "python",
   "pygments_lexer": "ipython3",
   "version": "3.10.16"
  }
 },
 "nbformat": 4,
 "nbformat_minor": 2
}
