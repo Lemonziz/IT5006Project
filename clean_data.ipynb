{
 "cells": [
  {
   "cell_type": "code",
   "execution_count": null,
   "metadata": {},
   "outputs": [],
   "source": [
    "import numpy as np\n",
    "import pandas as pd\n",
    "import matplotlib.pyplot as plt\n",
    "import seaborn as sns\n",
    "from datetime import datetime\n",
    "from src.crime_preprocessing import *\n",
    "\n",
    "# This would normally be imported from your src folder"
   ]
  },
  {
   "cell_type": "code",
   "execution_count": null,
   "metadata": {},
   "outputs": [],
   "source": [
    "file_path = \"./data/Crimes_-_2001_to_Present_20250225.csv\"\n",
    "crime_df = load_data(file_path)\n",
    "\n",
    "# Display the first few rows to understand the data structure\n",
    "crime_df.head()"
   ]
  },
  {
   "cell_type": "markdown",
   "metadata": {},
   "source": [
    "crime_df.info()\n"
   ]
  },
  {
   "cell_type": "code",
   "execution_count": null,
   "metadata": {},
   "outputs": [],
   "source": [
    "analysis_results = analyze_data(crime_df)\n",
    "\n",
    "print(\"\\nData Analysis Summary:\")\n",
    "print(f\"Dataset shape: {analysis_results['shape']}\")\n",
    "print(f\"Missing values total: {analysis_results['missing_values'].sum()}\")\n",
    "if \"arrest_rate\" in analysis_results:\n",
    "    print(f\"Overall arrest rate: {analysis_results['arrest_rate']:.2%}\")"
   ]
  },
  {
   "cell_type": "code",
   "execution_count": null,
   "metadata": {},
   "outputs": [],
   "source": [
    "if \"crime_distribution\" in analysis_results:\n",
    "    plt.figure(figsize=(12, 6))\n",
    "    top_crimes = analysis_results[\"crime_distribution\"].head(10)\n",
    "    sns.barplot(x=top_crimes.values, y=top_crimes.index)\n",
    "    plt.title(\"Top 10 Crime Types\")\n",
    "    plt.xlabel(\"Count\")\n",
    "    plt.tight_layout()\n",
    "    plt.show()"
   ]
  },
  {
   "cell_type": "code",
   "execution_count": null,
   "metadata": {},
   "outputs": [],
   "source": [
    "cleaned_df = clean_data(crime_df)\n",
    "\n",
    "# Display the cleaned data\n",
    "cleaned_df.head()"
   ]
  },
  {
   "cell_type": "code",
   "execution_count": null,
   "metadata": {},
   "outputs": [],
   "source": [
    "cleaned_file = f\"./data/cleaned_crimes_{datetime.now().strftime('%Y%m%d')}.csv\"\n",
    "cleaned_df.to_csv(cleaned_file, index=False)\n",
    "print(f\"Cleaned data saved to {cleaned_file}\")"
   ]
  }
 ],
 "metadata": {
  "kernelspec": {
   "display_name": "IT5006",
   "language": "python",
   "name": "python3"
  },
  "language_info": {
   "name": "python",
   "version": "3.10.16"
  }
 },
 "nbformat": 4,
 "nbformat_minor": 2
}
